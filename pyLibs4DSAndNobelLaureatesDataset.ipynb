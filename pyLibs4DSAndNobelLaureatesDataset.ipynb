{
 "cells": [
  {
   "cell_type": "markdown",
   "id": "91421d73-c42b-4ea7-adcc-2688ede7cd29",
   "metadata": {},
   "source": [
    "# Creating Queries in Python in Files\r",
    "- In this lesson, we will generate queries from a datafile and obtain certain information about the data. The file that is being used is about nobel prize winners since the 1900s.\r\n",
    "# Imports\r"
   ]
  },
  {
   "cell_type": "code",
   "execution_count": null,
   "id": "001e2580-1bd4-4b1d-91de-9cbeb860464d",
   "metadata": {},
   "outputs": [],
   "source": [
    "import datetime\n",
    "import numpy as np\n",
    "import pandas as pd\n"
   ]
  },
  {
   "cell_type": "markdown",
   "id": "82f4e0ac-76be-45b7-aa03-2e43834aa761",
   "metadata": {},
   "source": [
    "# Reading the File\r",
    "To begin, let's read in the file that we are going to be using to generate the queries. Use the pd.read_csv() command for this because the data is a csv file. If the data file is another type of document, like a word document or an excel, use different commands, like the read_excel() command."
   ]
  },
  {
   "cell_type": "code",
   "execution_count": null,
   "id": "b5d7484d-df2b-444a-835a-eb985d43eeda",
   "metadata": {},
   "outputs": [],
   "source": [
    "import pandas as pd",
    "df = pd.read_csv('export.csv')"
   ]
  },
  {
   "cell_type": "markdown",
   "id": "f4113b1d-3724-4b1a-8552-b14275afcf71",
   "metadata": {},
   "source": [
    "# Generating Queries\r",
    "Let's generate some queries now that the file has been read in. The commands head() and tail() will generate either the first or last few items in the query. Let's generate the first 5 items in the set below:"
   ]
  },
  {
   "cell_type": "code",
   "execution_count": null,
   "id": "20cd0717-7b6b-4245-8474-02a9bd947175",
   "metadata": {},
   "outputs": [],
   "source": [
    "df.head(5)"
   ]
  },
  {
   "cell_type": "markdown",
   "id": "d7e8710f-4248-4468-8f88-ac042bf3f67a",
   "metadata": {},
   "source": [
    "Now, let's only view the category and years of the LAST 5 nobel prize winners."
   ]
  },
  {
   "cell_type": "code",
   "execution_count": null,
   "id": "085a20dc-b248-4376-a916-cd861df7b06a",
   "metadata": {},
   "outputs": [],
   "source": [
    "df.tail(5)['year','category']"
   ]
  },
  {
   "cell_type": "markdown",
   "id": "daf16140-4f28-48a8-8d21-432e0a2360ec",
   "metadata": {},
   "source": [
    "Let's continue and generate another query, this time finding all males that have won a nobel prize in the query. In this instance, the loc[] command can be used to do this:\n"
   ]
  },
  {
   "cell_type": "code",
   "execution_count": null,
   "id": "e3c55ca4-c910-44c7-ab76-e06e513ce41c",
   "metadata": {},
   "outputs": [],
   "source": [
    "df.loc[df['gender'] == 'male']"
   ]
  },
  {
   "cell_type": "markdown",
   "id": "47316b26-2be3-430f-bbc5-10c6b88b568e",
   "metadata": {},
   "source": [
    "We can expand on the loc[] command and generate another query, this time we can access all nobel prize winners from the current year, 2023"
   ]
  },
  {
   "cell_type": "code",
   "execution_count": null,
   "id": "f88c7662-eeeb-4fe1-9d80-2b445cee5e9d",
   "metadata": {},
   "outputs": [],
   "source": [
    "df.loc[df['year'] == '2023']"
   ]
  },
  {
   "cell_type": "markdown",
   "id": "7f66b275-356a-40a4-ac56-fb82f5577c08",
   "metadata": {},
   "source": [
    "Let's generate this same query again, but this time only accessing the full name and categories of the winners in 2023."
   ]
  },
  {
   "cell_type": "code",
   "execution_count": null,
   "id": "444d19ef-5b9d-41a8-b444-c930be369c99",
   "metadata": {},
   "outputs": [],
   "source": [
    "df.loc[df['year'] == '2023', ['firstname','surname','category']]"
   ]
  },
  {
   "cell_type": "markdown",
   "id": "3d898e4a-5127-4a58-9e42-87c2cfef579c",
   "metadata": {},
   "source": [
    "You can try some queries now, try writing queries to solve the following problems below:\n",
    "\n\nGenerate a query to find all nobel prize winners in the city \"Munich\"\n"
   ]
  },
  {
   "cell_type": "code",
   "execution_count": null,
   "id": "9bbc95ca-85fc-4a22-adf1-06a1bc2fe520",
   "metadata": {},
   "outputs": [],
   "source": [
    "df.loc[df['city'] == 'Munich']"
   ]
  },
  {
   "cell_type": "markdown",
   "id": "cc97a4ed-533c-430f-8d95-7be001ffad80",
   "metadata": {},
   "source": [
    "Now, say that a company would like to send a letter to the hospitals where they were born. Write a query to find the birthday, birth city, and name of every nobel prize winner that is alive."
   ]
  },
  {
   "cell_type": "code",
   "execution_count": null,
   "id": "c61641f7-2c81-4ec4-87b4-69ee1bb320de",
   "metadata": {},
   "outputs": [],
   "source": [
    "nobel[df.loc[df['died'] == '0000-00-00'], ['born','bornCity','name']]"
   ]
  },
  {
   "cell_type": "code",
   "execution_count": null,
   "id": "a7014710-5a07-43d0-b2b6-2b0ffca21238",
   "metadata": {},
   "outputs": [],
   "source": []
  }
 ],
 "metadata": {
  "kernelspec": {
   "display_name": "Python 3 (ipykernel)",
   "language": "python",
   "name": "python3"
  },
  "language_info": {
   "codemirror_mode": {
    "name": "ipython",
    "version": 3
   },
   "file_extension": ".py",
   "mimetype": "text/x-python",
   "name": "python",
   "nbconvert_exporter": "python",
   "pygments_lexer": "ipython3",
   "version": "3.10.8"
  }
 },
 "nbformat": 4,
 "nbformat_minor": 5
}
